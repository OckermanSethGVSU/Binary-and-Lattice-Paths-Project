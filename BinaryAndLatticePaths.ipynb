{
 "cells": [
  {
   "cell_type": "markdown",
   "metadata": {},
   "source": [
    "<h1>Binary and Lattice Paths</h1>"
   ]
  },
  {
   "cell_type": "markdown",
   "metadata": {},
   "source": [
    "The purpose of this project is for you to write functions that relate binary strings to lattice paths.  Note that we will use STRINGS to represent binary numbers.\n",
    "\n",
    "The ONLY IMPORT ALLOWED is  \"copy\" and you are ONLY allowed to use the copy.deepcopy() method from this package.  All of your code should be 'from scracth.'  This means you cannot just use the function bin() to create binary strings.\n",
    "\n",
    " You are welcome to create helper functions, however these helper functions MUST BE COMMENTED. "
   ]
  },
  {
   "cell_type": "markdown",
   "metadata": {},
   "source": [
    "<h2>Objectives</h2>"
   ]
  },
  {
   "cell_type": "markdown",
   "metadata": {},
   "source": [
    "<h3>dec_to_bin</h3>"
   ]
  },
  {
   "cell_type": "markdown",
   "metadata": {},
   "source": [
    "You are to write a function \"dec_to_bin(number)\" that has a natural number written in decimal (base 10) as its input, and returns a string representing a binary representation of that number. As a note, you may have additional 0's in the front of the number (e.g., '001' will be considered the same as '1')."
   ]
  },
  {
   "cell_type": "code",
   "execution_count": 14,
   "metadata": {},
   "outputs": [],
   "source": [
    "def dec_to_bin(number):\n",
    "    # create an empty string to put the binary into\n",
    "    binary = \"\"\n",
    "    \n",
    "    # if the number is zero, return it\n",
    "    if(number == 0):\n",
    "        return str(number)\n",
    "    \n",
    "    # keep going until we hit zero\n",
    "    while (number > 0):\n",
    "        # if the number is divisible by 2\n",
    "        # that digit of binary will be a 0\n",
    "        # divide it in two and continue the algorithm\n",
    "        if(number % 2 == 0):\n",
    "            number /= 2\n",
    "            binary =  \"0\" + binary \n",
    "        \n",
    "        # if the number is not divisible by 2\n",
    "        # that digit of binary will be a 0\n",
    "        # subtract one and then divide by 2\n",
    "        # continue the algorithm\n",
    "        else:\n",
    "            number -= 1\n",
    "            number /= 2\n",
    "            binary = \"1\" + binary     \n",
    "    return binary"
   ]
  },
  {
   "cell_type": "markdown",
   "metadata": {},
   "source": [
    "After compiling the above cell, you should be able to compile the following cell and obtain the desired outputs."
   ]
  },
  {
   "cell_type": "code",
   "execution_count": 15,
   "metadata": {
    "scrolled": true
   },
   "outputs": [
    {
     "name": "stdout",
     "output_type": "stream",
     "text": [
      "110010 0 110011 1 11 10011100001111 10001001010111010011101101000000010000000011\n"
     ]
    }
   ],
   "source": [
    "print(dec_to_bin(50), dec_to_bin(0),dec_to_bin(51),dec_to_bin(1),dec_to_bin(3),dec_to_bin(9999),dec_to_bin(9439594939395))"
   ]
  },
  {
   "cell_type": "markdown",
   "metadata": {},
   "source": [
    "This should return\n",
    "110010 | 0 |  110011 | 11 | 10 0111 0000 1111 | 1000 1001 0101 1101 0011 1011 0100 0000 0100 0000 0011"
   ]
  },
  {
   "cell_type": "markdown",
   "metadata": {},
   "source": [
    "<h3>list_bin</h3>"
   ]
  },
  {
   "cell_type": "markdown",
   "metadata": {},
   "source": [
    "You are to write a function \"list_bin(n)\" that takes in a positive integer as its input and returns a list that contains all binary numbers of length n, each represented as a string."
   ]
  },
  {
   "cell_type": "code",
   "execution_count": 16,
   "metadata": {},
   "outputs": [],
   "source": [
    "def list_bin(n):\n",
    "    # create some vars to pass in\n",
    "    arr = []\n",
    "    string = \"\"\n",
    "    \n",
    "    \n",
    "    # pass in the array's pointer and update that boy\n",
    "    rBinary(n,\"\",arr)\n",
    "    \n",
    "    # return the array with all the combinations\n",
    "    return arr\n",
    "    \n",
    "    \n",
    "# add all possible binary strings of length n to an array\n",
    "def rBinary(n,string,arr):\n",
    "    # if there are no digits left to check, add that string to the array\n",
    "    if (n <= 0):\n",
    "        arr.append(string)\n",
    "        \n",
    "    else:        \n",
    "        # the next digit is a zero, decrease n\n",
    "        pos2 = string + \"0\"\n",
    "        rBinary(n-1,pos2,arr)\n",
    "        \n",
    "        # the next digit is a one, decrease n\n",
    "        pos1 = string + \"1\"\n",
    "        rBinary(n-1,pos1,arr)\n",
    "        \n",
    "        \n",
    "    "
   ]
  },
  {
   "cell_type": "markdown",
   "metadata": {},
   "source": [
    "After compiling the above cell, you should be able to compile the following cell and obtain the desired outputs."
   ]
  },
  {
   "cell_type": "code",
   "execution_count": 17,
   "metadata": {},
   "outputs": [
    {
     "name": "stdout",
     "output_type": "stream",
     "text": [
      "['0', '1'] ['00', '01', '10', '11'] ['000', '001', '010', '011', '100', '101', '110', '111']\n"
     ]
    }
   ],
   "source": [
    "print(list_bin(1), list_bin(2),list_bin(3))"
   ]
  },
  {
   "cell_type": "markdown",
   "metadata": {},
   "source": [
    "This should return \n",
    "\n",
    "['0', '1']    ['00','01','10','11']"
   ]
  },
  {
   "cell_type": "markdown",
   "metadata": {},
   "source": [
    "<h3>list_wbin</h3>"
   ]
  },
  {
   "cell_type": "markdown",
   "metadata": {},
   "source": [
    "You are to write a function \"list_wbin(n,k)\" that takes in a positive integer n and a natural number k as its input, and returns a list that contains all binary number of length n and weight k, each represented as a string."
   ]
  },
  {
   "cell_type": "code",
   "execution_count": 18,
   "metadata": {},
   "outputs": [],
   "source": [
    "def list_wbin(n,k):\n",
    "    # create some vars to pass in\n",
    "    arr = []\n",
    "    \n",
    "    \n",
    "    \n",
    "    # pass in the array's pointer and update that boy\n",
    "    wRBinary(n,\"\",arr,k)\n",
    "    \n",
    "    # return the array with all the combinations\n",
    "    return arr\n",
    "    \n",
    "\n",
    "    \n",
    "    \n",
    "    \n",
    "# add all possible binary strings of length n to an array\n",
    "def wRBinary(n,string,arr, weight):\n",
    "    \n",
    "    # if there are no digits left to check, verify that string is the correct weight\n",
    "    # if it is, add it to the arra\n",
    "    if (n <= 0):\n",
    "        if(correctWeight(string,weight)):\n",
    "            arr.append(string)\n",
    "    else:        \n",
    "        # the next digit is a zero, decrease n\n",
    "        pos2 = string + \"0\"\n",
    "        wRBinary(n-1,pos2,arr,weight)\n",
    "        \n",
    "        # the next digit is a one, decrease n\n",
    "        pos1 = string + \"1\"\n",
    "        wRBinary(n-1,pos1,arr,weight)\n",
    "\n",
    "# count the number of ones in a binary string\n",
    "# to make sure it has the correct weight\n",
    "# if it is correct, return true; else return false\n",
    "def correctWeight(string,weight):\n",
    "    counter = 0\n",
    "    for char in string:\n",
    "        if(char == '1'):\n",
    "            counter += 1\n",
    "    \n",
    "    if(counter == weight):\n",
    "        return True\n",
    "    else:\n",
    "        return False"
   ]
  },
  {
   "cell_type": "markdown",
   "metadata": {},
   "source": [
    "After compiling the above cell, you should be able to compile the following cell and obtain the desired outputs."
   ]
  },
  {
   "cell_type": "code",
   "execution_count": 19,
   "metadata": {},
   "outputs": [
    {
     "name": "stdout",
     "output_type": "stream",
     "text": [
      "['001', '010', '100'] ['0000'] ['011', '101', '110']\n"
     ]
    }
   ],
   "source": [
    "print(list_wbin(3,1), list_wbin(4,0),list_wbin(3,2))"
   ]
  },
  {
   "cell_type": "markdown",
   "metadata": {},
   "source": [
    "This should return\n",
    "\n",
    "['100','010','001']    ['0000']"
   ]
  },
  {
   "cell_type": "markdown",
   "metadata": {},
   "source": [
    "<h3>list_path</h3>"
   ]
  },
  {
   "cell_type": "markdown",
   "metadata": {},
   "source": [
    "You are to write a function \"list_path(lst1,lst2)\" that has two lists as its input, where each list has exactly two elements in it and represents a point.  This function will then return a list that contains all of the lattice paths that start at the first point (lst1) and end at the second point (lst2).\n",
    "\n",
    "Each lattice path is to be represented as a string in which each bit is either 'R' or 'U' (so you may assume that if lst1 is [a,b] and lst2 is [c,d], then c is at least a, and d is at least b.)"
   ]
  },
  {
   "cell_type": "code",
   "execution_count": 20,
   "metadata": {},
   "outputs": [],
   "source": [
    "def list_path(lst1,lst2):\n",
    "    # create an array to hold the values\n",
    "    arr = []\n",
    "    \n",
    "    # the number of right/left moves and the number of up/down moves\n",
    "    R = lst2[0] - lst1[0]\n",
    "    U = lst2[1] - lst1[1]\n",
    "    \n",
    "    # total distance needed traveled \n",
    "    total = R + U\n",
    "    \n",
    "    # pass in the array's pointer and run helper functions\n",
    "    allPaths(total,\"\",arr,R)\n",
    "    \n",
    "    # return the array with all the combinations\n",
    "    return arr\n",
    "    \n",
    "\n",
    "    \n",
    "    \n",
    "    \n",
    "# get all possible direct roots from one x,y cordinate to another x,y cordinate\n",
    "def allPaths(n,string,arr, weight):\n",
    "    \n",
    "    # if there are no digits left to check, verify that string is the correct weight\n",
    "    # if it is, add it to the arra\n",
    "    if (n <= 0):\n",
    "        \n",
    "        if(correctWeight(string,weight)):\n",
    "            arr.append(string)\n",
    "    else:        \n",
    "        \n",
    "        # the next move is Right/Left, decrease n\n",
    "        pos2 = string + \"R\"\n",
    "        allPaths(n-1,pos2,arr,weight)\n",
    "        \n",
    "        # the next digit is Up/Down, decrease n\n",
    "        pos1 = string + \"U\"\n",
    "        allPaths(n-1,pos1,arr,weight)\n",
    "\n",
    "\n",
    "# count the number of Right moves in a string\n",
    "# to make sure it has the correct weight\n",
    "# if it is correct, return true; else return false\n",
    "def correctWeight(string,weight):\n",
    "    counter = 0\n",
    "    for char in string:\n",
    "        if(char == 'R'):\n",
    "            counter += 1\n",
    "    \n",
    "    if(counter == weight):\n",
    "        return True\n",
    "    else:\n",
    "        return False"
   ]
  },
  {
   "cell_type": "markdown",
   "metadata": {},
   "source": [
    "After compiling the above cell, you should be able to compile the following cell and obtain the desired outputs."
   ]
  },
  {
   "cell_type": "code",
   "execution_count": 21,
   "metadata": {},
   "outputs": [
    {
     "name": "stdout",
     "output_type": "stream",
     "text": [
      "['RRU', 'RUR', 'URR'] ['UUUU']\n"
     ]
    }
   ],
   "source": [
    "print(list_path([0,0],[2,1]), list_path([3,1], [3,5]))"
   ]
  },
  {
   "cell_type": "markdown",
   "metadata": {},
   "source": [
    "This should return\n",
    "\n",
    "['RRU', 'RUR', 'URR']     ['UUUU']"
   ]
  },
  {
   "cell_type": "markdown",
   "metadata": {},
   "source": [
    "<h3>list_thru</h3>"
   ]
  },
  {
   "cell_type": "markdown",
   "metadata": {},
   "source": [
    "You are to write a function \"list_thru(lst1, lst2, lst3)\"  that has three lists as its input, where each list has exactly two elements in it and represents a point.  This function will then return a list that contains all of the lattice paths that start at the first point (lst1), end at the third point (lst3), and PASS THROUGH the second point (lst2).\n",
    "\n",
    "Each lattice path is to be represented as a string in which each bit is either 'R' or 'U' (so you may assume that if lst1 is [a,b], lst2 is [c,d], and lst3 is [e,f], then a is at most c, c is at most e, b is at most d, and d is at most f.)"
   ]
  },
  {
   "cell_type": "code",
   "execution_count": 22,
   "metadata": {},
   "outputs": [],
   "source": [
    "def list_thru(lst1,lst2,lst3):\n",
    "    # get all possiblities from lst1 -> lst2\n",
    "    firstHalf = list_path(lst1,lst2)\n",
    "    \n",
    "    # get all possiblites from lst2 -> lst3\n",
    "    secondHalf = list_path(lst2,lst3)\n",
    "    comboList = []\n",
    "    \n",
    "    # pair them all together in every possible way\n",
    "    for first in firstHalf:\n",
    "        for second in secondHalf:\n",
    "            comboList.append(first + second)\n",
    "    \n",
    "    # reverse the list because that is how he ordered it.\n",
    "    comboList.reverse()\n",
    "    return comboList\n",
    "\n",
    "\n",
    "def list_path(lst1,lst2):\n",
    "    # create an array to hold the values\n",
    "    arr = []\n",
    "    \n",
    "    # the number of right/left moves and the number of up/down moves\n",
    "    R = lst2[0] - lst1[0]\n",
    "    U = lst2[1] - lst1[1]\n",
    "    \n",
    "    # total distance needed traveled \n",
    "    total = R + U\n",
    "    \n",
    "    # pass in the array's pointer and run helper functions\n",
    "    allPaths(total,\"\",arr,U)\n",
    "    \n",
    "    # return the array with all the combinations\n",
    "    return arr\n",
    "    \n",
    "\n",
    "    \n",
    "    \n",
    "    \n",
    "# get all possible direct roots from one x,y cordinate to another x,y cordinate\n",
    "def allPaths(n,string,arr, weight):\n",
    "    \n",
    "    # if there are no digits left to check, verify that string is the correct weight\n",
    "    # if it is, add it to the arra\n",
    "    if (n <= 0):\n",
    "        \n",
    "        if(correctWeight(string,weight)):\n",
    "            arr.append(string)\n",
    "    else:        \n",
    "        \n",
    "        # the next move is Right/Left, decrease n\n",
    "        pos2 = string + \"R\"\n",
    "        allPaths(n-1,pos2,arr,weight)\n",
    "        \n",
    "        # the next digit is Up/Down, decrease n\n",
    "        pos1 = string + \"U\"\n",
    "        allPaths(n-1,pos1,arr,weight)\n",
    "\n",
    "\n",
    "# count the number of Right moves in a string\n",
    "# to make sure it has the correct weight\n",
    "# if it is correct, return true; else return false\n",
    "def correctWeight(string,weight):\n",
    "    counter = 0\n",
    "    for char in string:\n",
    "        if(char == 'U'):\n",
    "            counter += 1\n",
    "    \n",
    "    if(counter == weight):\n",
    "        return True\n",
    "    else:\n",
    "        return False"
   ]
  },
  {
   "cell_type": "markdown",
   "metadata": {},
   "source": [
    "After compiling the above cell, you should be able to compile the following cell and obtain the desired outputs."
   ]
  },
  {
   "cell_type": "code",
   "execution_count": 23,
   "metadata": {},
   "outputs": [
    {
     "name": "stdout",
     "output_type": "stream",
     "text": [
      "['URRUR', 'URRRU', 'RURUR', 'RURRU', 'RRUUR', 'RRURU'] ['UUUUUR', 'UUUURU']\n"
     ]
    }
   ],
   "source": [
    "print(list_thru([0,0],[2,1],[3,2]), list_thru([3,1], [3,5], [4,6]))"
   ]
  },
  {
   "cell_type": "markdown",
   "metadata": {},
   "source": [
    "This should return\n",
    "\n",
    "\n",
    "['URRUR','URRRU','RURUR','RURRU','RRUUR','RRURU']    ['UUUUUR','UUUURU']"
   ]
  },
  {
   "cell_type": "markdown",
   "metadata": {},
   "source": [
    "\n",
    "This is for some more advanced testing"
   ]
  },
  {
   "cell_type": "code",
   "execution_count": 31,
   "metadata": {},
   "outputs": [
    {
     "name": "stdout",
     "output_type": "stream",
     "text": [
      "steve\n",
      "True\n",
      "True\n",
      "True\n",
      "True\n"
     ]
    }
   ],
   "source": [
    "import math\n",
    "\n",
    "# correct number of binary strings with no specified weight\n",
    "def allBinPoss(arr,n):\n",
    "    if (len(arr) == 2**n):\n",
    "        return True\n",
    "    else:\n",
    "        return False\n",
    "# correct length of a binary string with no specified weight\n",
    "def binLen(binStr,n):\n",
    "    if (len(binStr) == n):\n",
    "        return True\n",
    "    else:\n",
    "        return False\n",
    "\n",
    "# correct number of paths/ weighted binary strings\n",
    "def correctLen(arr,n,k):\n",
    "    if(math.comb(n,k) == len(arr)):\n",
    "        return True\n",
    "    else:\n",
    "        return False\n",
    "    \n",
    "# correct weight Binary or latice paths\n",
    "def corrWeight(arr,weight,char):\n",
    "    w = 0\n",
    "    for each in arr:\n",
    "        for char in each:\n",
    "            if(char == char):\n",
    "                w +=1\n",
    "    \n",
    "    if(weight == w):\n",
    "        return True;\n",
    "    else:\n",
    "        return False\n",
    "\n",
    "# all strings are same length\n",
    "def allEntriesEqual(arr,k):\n",
    "    for each in arr:\n",
    "        if (len(each) != k):\n",
    "            return False\n",
    "    return True\n",
    "\n",
    "#testing list_bin\n",
    "testCases = []\n",
    "arr = []\n",
    "testCases.append(4)\n",
    "testCases.append(12)\n",
    "testCases.append(0)\n",
    "testCases.append(9)\n",
    "print(\"steve\")\n",
    "\n",
    "for each in testCases:\n",
    "    arr.append(list_bin(each))\n",
    "\n",
    "# testing correct number of strings in arr\n",
    "for i in range(len(arr)):\n",
    "    if(allBinPoss(arr[i],testCases[i])):\n",
    "        print(\"True\")\n",
    "    else:\n",
    "        print(\"False\")\n",
    "  \n",
    "\n",
    "# testing for the correct number of digits in the string\n",
    "for i in range(len(arr)):\n",
    "    for each in arr[i]:\n",
    "        if (not(binLen(each,testCases[i]))):\n",
    "            print(\"False\")\n",
    "\n",
    "# testing for no repeats\n",
    "dup = set()\n",
    "for each in arr:\n",
    "    dup = set()\n",
    "    for element in each:\n",
    "        if element not in dup:\n",
    "            dup.add(element)\n",
    "        else:\n",
    "            print(\"False\")\n"
   ]
  },
  {
   "cell_type": "code",
   "execution_count": null,
   "metadata": {},
   "outputs": [],
   "source": []
  },
  {
   "cell_type": "code",
   "execution_count": null,
   "metadata": {},
   "outputs": [],
   "source": []
  }
 ],
 "metadata": {
  "anaconda-cloud": {},
  "kernelspec": {
   "display_name": "Python 3",
   "language": "python",
   "name": "python3"
  },
  "language_info": {
   "codemirror_mode": {
    "name": "ipython",
    "version": 3
   },
   "file_extension": ".py",
   "mimetype": "text/x-python",
   "name": "python",
   "nbconvert_exporter": "python",
   "pygments_lexer": "ipython3",
   "version": "3.7.6"
  }
 },
 "nbformat": 4,
 "nbformat_minor": 1
}
