{
 "cells": [
  {
   "cell_type": "markdown",
   "metadata": {},
   "source": [
    "<h1> Demonstrating the Relationship between Binary and Lattice Paths </h1>"
   ]
  },
  {
   "cell_type": "markdown",
   "metadata": {},
   "source": [
    "The purpose of this project is to write functions that relate binary strings to lattice paths and convert decimal numbers to binary all from scratch (meaning not using existing libraries). I will be using strings to represent binary. "
   ]
  },
  {
   "cell_type": "markdown",
   "metadata": {},
   "source": [
    "<h3> Base 10 numbers to Binary </h3>"
   ]
  },
  {
   "cell_type": "markdown",
   "metadata": {},
   "source": [
    "This function convert a natural base 10 number written in decimal (base 10) to a string representing the binary representation of that number. "
   ]
  },
  {
   "cell_type": "code",
   "execution_count": 1,
   "metadata": {},
   "outputs": [],
   "source": [
    "def base10_to_binary(number):\n",
    "    # create an empty string to put the binary into\n",
    "    binary = \"\"\n",
    "    \n",
    "    # if the number is zero, return it\n",
    "    if(number == 0):\n",
    "        return str(number)\n",
    "    \n",
    "    # keep going until we hit zero\n",
    "    while (number > 0):\n",
    "        # if the number is divisible by 2\n",
    "        # that digit of binary will be a 0\n",
    "        # divide it in two and continue the algorithm\n",
    "        if(number % 2 == 0):\n",
    "            number /= 2\n",
    "            binary =  \"0\" + binary \n",
    "        \n",
    "        # if the number is not divisible by 2\n",
    "        # that digit of binary will be a 0\n",
    "        # subtract one and then divide by 2\n",
    "        # continue the algorithm\n",
    "        else:\n",
    "            number -= 1\n",
    "            number /= 2\n",
    "            binary = \"1\" + binary     \n",
    "    return binary"
   ]
  },
  {
   "cell_type": "markdown",
   "metadata": {},
   "source": [
    "After compiling the above cell, you should be able to compile the following cell and obtain the desired outputs."
   ]
  },
  {
   "cell_type": "code",
   "execution_count": 2,
   "metadata": {
    "scrolled": true
   },
   "outputs": [
    {
     "name": "stdout",
     "output_type": "stream",
     "text": [
      "110010 0 110011 1 11 10011100001111 10001001010111010011101101000000010000000011\n"
     ]
    }
   ],
   "source": [
    "print(base10_to_binary(50), base10_to_binary(0),base10_to_binary(51),base10_to_binary(1),base10_to_binary(3),base10_to_binary(9999),base10_to_binary(9439594939395))"
   ]
  },
  {
   "cell_type": "markdown",
   "metadata": {},
   "source": [
    "This should return\n",
    "110010 | 0 |  110011 | 11 | 10 0111 0000 1111 | 1000 1001 0101 1101 0011 1011 0100 0000 0100 0000 0011"
   ]
  },
  {
   "cell_type": "markdown",
   "metadata": {},
   "source": [
    "<h3>All Binary Strings of Length N </h3>"
   ]
  },
  {
   "cell_type": "markdown",
   "metadata": {},
   "source": [
    "This function, \"allBinPoss(n)\",takes in a positive integer as its input and returns a list that contains all binary numbers of length n, each represented as a string."
   ]
  },
  {
   "cell_type": "code",
   "execution_count": 3,
   "metadata": {},
   "outputs": [],
   "source": [
    "def allBinPoss(n):\n",
    "    # create some vars to pass in\n",
    "    arr = []\n",
    "    string = \"\"\n",
    "    \n",
    "    \n",
    "    # pass in the array's pointer and update that boy\n",
    "    rBinary(n,\"\",arr)\n",
    "    \n",
    "    # return the array with all the combinations\n",
    "    return arr\n",
    "    \n",
    "    \n",
    "# add all possible binary strings of length n to an array\n",
    "def rBinary(n,string,arr):\n",
    "    # if there are no digits left to check, add that string to the array\n",
    "    if (n <= 0):\n",
    "        arr.append(string)\n",
    "        \n",
    "    else:        \n",
    "        # the next digit is a zero, decrease n\n",
    "        pos2 = string + \"0\"\n",
    "        rBinary(n-1,pos2,arr)\n",
    "        \n",
    "        # the next digit is a one, decrease n\n",
    "        pos1 = string + \"1\"\n",
    "        rBinary(n-1,pos1,arr)\n",
    "        \n",
    "        \n",
    "    "
   ]
  },
  {
   "cell_type": "markdown",
   "metadata": {},
   "source": [
    "After compiling the above cell, you should be able to compile the following cell and obtain the desired outputs."
   ]
  },
  {
   "cell_type": "code",
   "execution_count": 4,
   "metadata": {},
   "outputs": [
    {
     "name": "stdout",
     "output_type": "stream",
     "text": [
      "['0', '1'] ['00', '01', '10', '11'] ['000', '001', '010', '011', '100', '101', '110', '111'] ['000000', '000001', '000010', '000011', '000100', '000101', '000110', '000111', '001000', '001001', '001010', '001011', '001100', '001101', '001110', '001111', '010000', '010001', '010010', '010011', '010100', '010101', '010110', '010111', '011000', '011001', '011010', '011011', '011100', '011101', '011110', '011111', '100000', '100001', '100010', '100011', '100100', '100101', '100110', '100111', '101000', '101001', '101010', '101011', '101100', '101101', '101110', '101111', '110000', '110001', '110010', '110011', '110100', '110101', '110110', '110111', '111000', '111001', '111010', '111011', '111100', '111101', '111110', '111111']\n"
     ]
    }
   ],
   "source": [
    "print(allBinPoss(1), allBinPoss(2),allBinPoss(3),allBinPoss(6))"
   ]
  },
  {
   "cell_type": "markdown",
   "metadata": {},
   "source": [
    "This should return \n",
    "\n",
    "['0', '1']    ['00','01','10','11']"
   ]
  },
  {
   "cell_type": "markdown",
   "metadata": {},
   "source": [
    "<h3>All Binary Strings of Length N with K Weight</h3>\n",
    "K meaning how many 1's are contained in the string"
   ]
  },
  {
   "cell_type": "markdown",
   "metadata": {},
   "source": [
    "This function, \"allBinPossW(n,k)\", takes in a positive integer n and a natural number k as its input, and returns a list that contains all binary number of length n and weight k, each represented as a string."
   ]
  },
  {
   "cell_type": "code",
   "execution_count": 5,
   "metadata": {},
   "outputs": [],
   "source": [
    "def allBinPossW(n,k):\n",
    "    # create some vars to pass in\n",
    "    arr = []\n",
    "    \n",
    "    \n",
    "    \n",
    "    # pass in the array's pointer and update that boy\n",
    "    wRBinary(n,\"\",arr,k)\n",
    "    \n",
    "    # return the array with all the combinations\n",
    "    return arr\n",
    "    \n",
    "\n",
    "    \n",
    "    \n",
    "    \n",
    "# add all possible binary strings of length n to an array\n",
    "def wRBinary(n,string,arr, weight):\n",
    "    \n",
    "    # if there are no digits left to check, verify that string is the correct weight\n",
    "    # if it is, add it to the arra\n",
    "    if (n <= 0):\n",
    "        if(correctWeight(string,weight)):\n",
    "            arr.append(string)\n",
    "    else:        \n",
    "        # the next digit is a zero, decrease n\n",
    "        pos2 = string + \"0\"\n",
    "        wRBinary(n-1,pos2,arr,weight)\n",
    "        \n",
    "        # the next digit is a one, decrease n\n",
    "        pos1 = string + \"1\"\n",
    "        wRBinary(n-1,pos1,arr,weight)\n",
    "\n",
    "# count the number of ones in a binary string\n",
    "# to make sure it has the correct weight\n",
    "# if it is correct, return true; else return false\n",
    "def correctWeight(string,weight):\n",
    "    counter = 0\n",
    "    for char in string:\n",
    "        if(char == '1'):\n",
    "            counter += 1\n",
    "    \n",
    "    if(counter == weight):\n",
    "        return True\n",
    "    else:\n",
    "        return False"
   ]
  },
  {
   "cell_type": "markdown",
   "metadata": {},
   "source": [
    "After compiling the above cell, you should be able to compile the following cell and obtain the desired outputs."
   ]
  },
  {
   "cell_type": "code",
   "execution_count": 6,
   "metadata": {},
   "outputs": [
    {
     "name": "stdout",
     "output_type": "stream",
     "text": [
      "['001', '010', '100'] ['0000'] ['011', '101', '110']\n"
     ]
    }
   ],
   "source": [
    "print(allBinPossW(3,1), allBinPossW(4,0),allBinPossW(3,2))"
   ]
  },
  {
   "cell_type": "markdown",
   "metadata": {},
   "source": [
    "This should return\n",
    "\n",
    "['100','010','001']    ['0000']"
   ]
  },
  {
   "cell_type": "markdown",
   "metadata": {},
   "source": [
    "<h3> All Possible Lattice Paths Between 2 Sets of Coordinates </h3>"
   ]
  },
  {
   "cell_type": "markdown",
   "metadata": {},
   "source": [
    "This function \"all_lattice_paths(lst1,lst2)\" takes two lists as its input, where each list has exactly two elements in it and represents a point.  This function will then return a list that contains all of the lattice paths that start at the first point (lst1) and end at the second point (lst2).\n",
    "\n",
    "Each lattice path is to be represented as a string in which each bit is either 'R' or 'U'"
   ]
  },
  {
   "cell_type": "code",
   "execution_count": 7,
   "metadata": {},
   "outputs": [],
   "source": [
    "def all_lattice_paths(lst1,lst2):\n",
    "    # create an array to hold the values\n",
    "    arr = []\n",
    "    \n",
    "    # the number of right/left moves and the number of up/down moves\n",
    "    R = lst2[0] - lst1[0]\n",
    "    U = lst2[1] - lst1[1]\n",
    "    \n",
    "    # total distance needed traveled \n",
    "    total = R + U\n",
    "    \n",
    "    # pass in the array's pointer and run helper functions\n",
    "    allPaths(total,\"\",arr,R)\n",
    "    \n",
    "    # return the array with all the combinations\n",
    "    return arr\n",
    "    \n",
    "\n",
    "    \n",
    "    \n",
    "    \n",
    "# get all possible direct roots from one x,y cordinate to another x,y cordinate\n",
    "def allPaths(n,string,arr, weight):\n",
    "    \n",
    "    # if there are no digits left to check, verify that string is the correct weight\n",
    "    # if it is, add it to the array\n",
    "    if (n <= 0):\n",
    "        \n",
    "        if(correctWeight(string,weight)):\n",
    "            arr.append(string)\n",
    "    else:        \n",
    "        \n",
    "        # the next move is Right/Left, decrease n\n",
    "        pos2 = string + \"R\"\n",
    "        allPaths(n-1,pos2,arr,weight)\n",
    "        \n",
    "        # the next digit is Up/Down, decrease n\n",
    "        pos1 = string + \"U\"\n",
    "        allPaths(n-1,pos1,arr,weight)\n",
    "\n",
    "\n",
    "# count the number of Right moves in a string\n",
    "# to make sure it has the correct weight\n",
    "# if it is correct, return true; else return false\n",
    "def correctWeight(string,weight):\n",
    "    counter = 0\n",
    "    for char in string:\n",
    "        if(char == 'R'):\n",
    "            counter += 1\n",
    "    \n",
    "    if(counter == weight):\n",
    "        return True\n",
    "    else:\n",
    "        return False"
   ]
  },
  {
   "cell_type": "markdown",
   "metadata": {},
   "source": [
    "After compiling the above cell, you should be able to compile the following cell and obtain the desired outputs."
   ]
  },
  {
   "cell_type": "code",
   "execution_count": 8,
   "metadata": {},
   "outputs": [
    {
     "name": "stdout",
     "output_type": "stream",
     "text": [
      "['RRU', 'RUR', 'URR'] ['UUUU']\n"
     ]
    }
   ],
   "source": [
    "print(all_lattice_paths([0,0],[2,1]), all_lattice_paths([3,1], [3,5]))"
   ]
  },
  {
   "cell_type": "markdown",
   "metadata": {},
   "source": [
    "This should return\n",
    "\n",
    "['RRU', 'RUR', 'URR']     ['UUUU']"
   ]
  },
  {
   "cell_type": "markdown",
   "metadata": {},
   "source": [
    "<h3> All Possible Lattice Paths Between 2 Sets of Coordinates that pass through (x,y) </h3>"
   ]
  },
  {
   "cell_type": "markdown",
   "metadata": {},
   "source": [
    "This function \"list_thru(lst1, lst2, lst3)\" has three lists as its input, where each list has exactly two elements in it and represents a point.  This function will then return a list that contains all of the lattice paths that start at the first point (lst1), end at the third point (lst3), and PASS THROUGH the second point (lst2).\n",
    "\n",
    "Each lattice path is to be represented as a string in which each bit is either 'R' or 'U'"
   ]
  },
  {
   "cell_type": "code",
   "execution_count": 9,
   "metadata": {},
   "outputs": [],
   "source": [
    "def list_thru(lst1,lst2,lst3):\n",
    "    # get all possiblities from lst1 -> lst2\n",
    "    firstHalf = list_path(lst1,lst2)\n",
    "    \n",
    "    # get all possiblites from lst2 -> lst3\n",
    "    secondHalf = list_path(lst2,lst3)\n",
    "    comboList = []\n",
    "    \n",
    "    # pair them all together in every possible way\n",
    "    for first in firstHalf:\n",
    "        for second in secondHalf:\n",
    "            comboList.append(first + second)\n",
    "    \n",
    "    # reverse the list because that is how he ordered it.\n",
    "    comboList.reverse()\n",
    "    return comboList\n",
    "\n",
    "\n",
    "def list_path(lst1,lst2):\n",
    "    # create an array to hold the values\n",
    "    arr = []\n",
    "    \n",
    "    # the number of right/left moves and the number of up/down moves\n",
    "    R = lst2[0] - lst1[0]\n",
    "    U = lst2[1] - lst1[1]\n",
    "    \n",
    "    # total distance needed traveled \n",
    "    total = R + U\n",
    "    \n",
    "    # pass in the array's pointer and run helper functions\n",
    "    allPaths(total,\"\",arr,U)\n",
    "    \n",
    "    # return the array with all the combinations\n",
    "    return arr\n",
    "    \n",
    "\n",
    "    \n",
    "    \n",
    "    \n",
    "# get all possible direct roots from one x,y cordinate to another x,y cordinate\n",
    "def allPaths(n,string,arr, weight):\n",
    "    \n",
    "    # if there are no digits left to check, verify that string is the correct weight\n",
    "    # if it is, add it to the arra\n",
    "    if (n <= 0):\n",
    "        \n",
    "        if(correctWeight(string,weight)):\n",
    "            arr.append(string)\n",
    "    else:        \n",
    "        \n",
    "        # the next move is Right/Left, decrease n\n",
    "        pos2 = string + \"R\"\n",
    "        allPaths(n-1,pos2,arr,weight)\n",
    "        \n",
    "        # the next digit is Up/Down, decrease n\n",
    "        pos1 = string + \"U\"\n",
    "        allPaths(n-1,pos1,arr,weight)\n",
    "\n",
    "\n",
    "# count the number of Right moves in a string\n",
    "# to make sure it has the correct weight\n",
    "# if it is correct, return true; else return false\n",
    "def correctWeight(string,weight):\n",
    "    counter = 0\n",
    "    for char in string:\n",
    "        if(char == 'U'):\n",
    "            counter += 1\n",
    "    \n",
    "    if(counter == weight):\n",
    "        return True\n",
    "    else:\n",
    "        return False"
   ]
  },
  {
   "cell_type": "markdown",
   "metadata": {},
   "source": [
    "After compiling the above cell, you should be able to compile the following cell and obtain the desired outputs."
   ]
  },
  {
   "cell_type": "code",
   "execution_count": 10,
   "metadata": {},
   "outputs": [
    {
     "name": "stdout",
     "output_type": "stream",
     "text": [
      "['URRUR', 'URRRU', 'RURUR', 'RURRU', 'RRUUR', 'RRURU'] ['UUUUUR', 'UUUURU']\n"
     ]
    }
   ],
   "source": [
    "print(list_thru([0,0],[2,1],[3,2]), list_thru([3,1], [3,5], [4,6]))"
   ]
  },
  {
   "cell_type": "markdown",
   "metadata": {},
   "source": [
    "This should return\n",
    "\n",
    "\n",
    "['URRUR','URRRU','RURUR','RURRU','RRUUR','RRURU']    ['UUUUUR','UUUURU']"
   ]
  }
 ],
 "metadata": {
  "anaconda-cloud": {},
  "kernelspec": {
   "display_name": "Python 3",
   "language": "python",
   "name": "python3"
  },
  "language_info": {
   "codemirror_mode": {
    "name": "ipython",
    "version": 3
   },
   "file_extension": ".py",
   "mimetype": "text/x-python",
   "name": "python",
   "nbconvert_exporter": "python",
   "pygments_lexer": "ipython3",
   "version": "3.8.5"
  }
 },
 "nbformat": 4,
 "nbformat_minor": 1
}
