{
 "cells": [
  {
   "cell_type": "markdown",
   "metadata": {},
   "source": [
    "<h1>Binary and Lattice Paths</h1>"
   ]
  },
  {
   "cell_type": "markdown",
   "metadata": {},
   "source": [
    "The purpose of this project is for you to write functions that relate binary strings to lattice paths.  Note that we will use STRINGS to represent binary numbers.\n",
    "\n",
    "The ONLY IMPORT ALLOWED is  \"copy\" and you are ONLY allowed to use the copy.deepcopy() method from this package.  All of your code should be 'from scracth.'  This means you cannot just use the function bin() to create binary strings.\n",
    "\n",
    " You are welcome to create helper functions, however these helper functions MUST BE COMMENTED. "
   ]
  },
  {
   "cell_type": "markdown",
   "metadata": {},
   "source": [
    "<h2>Objectives</h2>"
   ]
  },
  {
   "cell_type": "markdown",
   "metadata": {},
   "source": [
    "<h3>dec_to_bin</h3>"
   ]
  },
  {
   "cell_type": "markdown",
   "metadata": {},
   "source": [
    "You are to write a function \"dec_to_bin(number)\" that has a natural number written in decimal (base 10) as its input, and returns a string representing a binary representation of that number. As a note, you may have additional 0's in the front of the number (e.g., '001' will be considered the same as '1')."
   ]
  },
  {
   "cell_type": "code",
   "execution_count": 28,
   "metadata": {},
   "outputs": [],
   "source": [
    "def dec_to_bin(number):\n",
    "    binary = \"\"\n",
    "    if(number >= 0):\n",
    "        if(number == 0):\n",
    "            return str(number)\n",
    "\n",
    "        while (number > 0):\n",
    "            if(number % 2 == 0):\n",
    "                number /= 2\n",
    "                binary =  \"0\" + binary \n",
    "            else:\n",
    "                number -= 1\n",
    "                number /= 2\n",
    "                binary = \"1\" + binary     \n",
    "        return binary"
   ]
  },
  {
   "cell_type": "markdown",
   "metadata": {},
   "source": [
    "After compiling the above cell, you should be able to compile the following cell and obtain the desired outputs."
   ]
  },
  {
   "cell_type": "code",
   "execution_count": 29,
   "metadata": {},
   "outputs": [
    {
     "name": "stdout",
     "output_type": "stream",
     "text": [
      "110010 0 110011 1 11 10011100001111 10001001010111010011101101000000010000000011\n"
     ]
    }
   ],
   "source": [
    "print(dec_to_bin(50), dec_to_bin(0),dec_to_bin(51),dec_to_bin(1),dec_to_bin(3),dec_to_bin(9999),dec_to_bin(9439594939395))"
   ]
  },
  {
   "cell_type": "markdown",
   "metadata": {},
   "source": [
    "This should return\n",
    "110010 | 0 |  110011 | 11 | 10 0111 0000 1111 | 1000 1001 0101 1101 0011 1011 0100 0000 0100 0000 0011"
   ]
  },
  {
   "cell_type": "markdown",
   "metadata": {},
   "source": [
    "<h3>list_bin</h3>"
   ]
  },
  {
   "cell_type": "markdown",
   "metadata": {},
   "source": [
    "You are to write a function \"list_bin(n)\" that takes in a positive integer as its input and returns a list that contains all binary numbers of length n, each represented as a string."
   ]
  },
  {
   "cell_type": "code",
   "execution_count": 34,
   "metadata": {},
   "outputs": [],
   "source": [
    "def list_bin(n):\n",
    "    allCombos = []\n",
    "    i = 0\n",
    "    j = 0\n",
    "    \n",
    "    while(i < (2**n)):\n",
    "        binary = \"\"\n",
    "        temp = i\n",
    "        while(j < n):\n",
    "            \n",
    "            if (temp % 2 == 1):\n",
    "                binary = \"1\" + binary\n",
    "            else:\n",
    "                binary = \"0\" + binary\n",
    "                temp = temp / 2\n",
    "            j += 1\n",
    "        \n",
    "        \n",
    "        allCombos.append(binary)\n",
    "        i += 1\n",
    "        j = 0\n",
    "    return allCombos\n",
    "    \n",
    "        \n",
    "        \n",
    "    "
   ]
  },
  {
   "cell_type": "markdown",
   "metadata": {},
   "source": [
    "After compiling the above cell, you should be able to compile the following cell and obtain the desired outputs."
   ]
  },
  {
   "cell_type": "code",
   "execution_count": 35,
   "metadata": {},
   "outputs": [
    {
     "name": "stdout",
     "output_type": "stream",
     "text": [
      "['0', '1'] ['00', '11', '10', '11']\n"
     ]
    }
   ],
   "source": [
    "print(list_bin(1), list_bin(2))"
   ]
  },
  {
   "cell_type": "markdown",
   "metadata": {},
   "source": [
    "This should return \n",
    "\n",
    "['0', '1']    ['00','01','10','11']"
   ]
  },
  {
   "cell_type": "markdown",
   "metadata": {},
   "source": [
    "<h3>list_wbin</h3>"
   ]
  },
  {
   "cell_type": "markdown",
   "metadata": {},
   "source": [
    "You are to write a function \"list_wbin(n,k)\" that takes in a positive integer n and a natural number k as its input, and returns a list that contains all binary number of length n and weight k, each represented as a string."
   ]
  },
  {
   "cell_type": "code",
   "execution_count": null,
   "metadata": {},
   "outputs": [],
   "source": []
  },
  {
   "cell_type": "markdown",
   "metadata": {},
   "source": [
    "After compiling the above cell, you should be able to compile the following cell and obtain the desired outputs."
   ]
  },
  {
   "cell_type": "code",
   "execution_count": null,
   "metadata": {},
   "outputs": [],
   "source": [
    "print(list_wbin(3,1), list_wbin(4,0))"
   ]
  },
  {
   "cell_type": "markdown",
   "metadata": {},
   "source": [
    "This should return\n",
    "\n",
    "['100','010','001']    ['0000']"
   ]
  },
  {
   "cell_type": "markdown",
   "metadata": {},
   "source": [
    "<h3>list_path</h3>"
   ]
  },
  {
   "cell_type": "markdown",
   "metadata": {},
   "source": [
    "You are to write a function \"list_path(lst1,lst2)\" that has two lists as its input, where each list has exactly two elements in it and represents a point.  This function will then return a list that contains all of the lattice paths that start at the first point (lst1) and end at the second point (lst2).\n",
    "\n",
    "Each lattice path is to be represented as a string in which each bit is either 'R' or 'U' (so you may assume that if lst1 is [a,b] and lst2 is [c,d], then c is at least a, and d is at least b.)"
   ]
  },
  {
   "cell_type": "code",
   "execution_count": null,
   "metadata": {},
   "outputs": [],
   "source": []
  },
  {
   "cell_type": "markdown",
   "metadata": {},
   "source": [
    "After compiling the above cell, you should be able to compile the following cell and obtain the desired outputs."
   ]
  },
  {
   "cell_type": "code",
   "execution_count": null,
   "metadata": {},
   "outputs": [],
   "source": [
    "print(list_path([0,0],[2,1]), list_path([3,1], [3,5]))"
   ]
  },
  {
   "cell_type": "markdown",
   "metadata": {},
   "source": [
    "This should return\n",
    "\n",
    "['RRU', 'RUR', 'URR']     ['UUUU']"
   ]
  },
  {
   "cell_type": "markdown",
   "metadata": {},
   "source": [
    "<h3>list_thru</h3>"
   ]
  },
  {
   "cell_type": "markdown",
   "metadata": {},
   "source": [
    "You are to write a function \"list_thru(lst1, lst2, lst3)\"  that has three lists as its input, where each list has exactly two elements in it and represents a point.  This function will then return a list that contains all of the lattice paths that start at the first point (lst1), end at the third point (lst3), and PASS THROUGH the second point (lst2).\n",
    "\n",
    "Each lattice path is to be represented as a string in which each bit is either 'R' or 'U' (so you may assume that if lst1 is [a,b], lst2 is [c,d], and lst3 is [e,f], then a is at most c, c is at most e, b is at most d, and d is at most f.)"
   ]
  },
  {
   "cell_type": "code",
   "execution_count": null,
   "metadata": {},
   "outputs": [],
   "source": []
  },
  {
   "cell_type": "markdown",
   "metadata": {},
   "source": [
    "After compiling the above cell, you should be able to compile the following cell and obtain the desired outputs."
   ]
  },
  {
   "cell_type": "code",
   "execution_count": null,
   "metadata": {},
   "outputs": [],
   "source": [
    "print(list_thru([0,0],[2,1],[3,2]), list_thru([3,1], [3,5], [4,6]))"
   ]
  },
  {
   "cell_type": "markdown",
   "metadata": {},
   "source": [
    "This should return\n",
    "\n",
    "\n",
    "['URRUR','URRRU','RURUR','RURRU','RRUUR','RRURU']    ['UUUUUR','UUUURU']"
   ]
  },
  {
   "cell_type": "code",
   "execution_count": null,
   "metadata": {},
   "outputs": [],
   "source": []
  }
 ],
 "metadata": {
  "anaconda-cloud": {},
  "kernelspec": {
   "display_name": "Python 3",
   "language": "python",
   "name": "python3"
  },
  "language_info": {
   "codemirror_mode": {
    "name": "ipython",
    "version": 3
   },
   "file_extension": ".py",
   "mimetype": "text/x-python",
   "name": "python",
   "nbconvert_exporter": "python",
   "pygments_lexer": "ipython3",
   "version": "3.7.6"
  }
 },
 "nbformat": 4,
 "nbformat_minor": 1
}
